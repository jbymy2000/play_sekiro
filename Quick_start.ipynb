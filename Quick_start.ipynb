{
 "cells": [
  {
   "cell_type": "markdown",
   "metadata": {},
   "source": [
    "# 1 Game settings"
   ]
  },
  {
   "cell_type": "markdown",
   "metadata": {},
   "source": [
    "- Open the game 《Sekiro™ Shadows Die Twice》\n",
    "    - Options\n",
    "        - Sound and Display\n",
    "            - **Adjust Brightness**\n",
    "                - set 5\n",
    "        - Key Config\n",
    "            - Movement\n",
    "                - Move Forward\n",
    "                    - set W\n",
    "                - Move Back\n",
    "                    - set S\n",
    "                - Move Left\n",
    "                    - set A\n",
    "                - Move Right\n",
    "                    - set D\n",
    "                - Step Dodge, (hold) Sprint\n",
    "                    - set .Shift\n",
    "                - Jump\n",
    "                    - set Space\n",
    "            - Camera Controls\n",
    "                - **Camera Reset/Lock On**\n",
    "                    - set Y\n",
    "            - Attack Action\n",
    "                - **Attack**\n",
    "                    - set J\n",
    "                - **Deflect, (Hold) Gurad**\n",
    "                    - set K\n",
    "        - Graphics Options\n",
    "            - **Screen Mode**\n",
    "                - set Windowed\n",
    "            - **Screen Resolution**\n",
    "                - set 800 x 450\n",
    "            - Automatic Rendering Adjustment\n",
    "                - OFF\n",
    "            - Quality Settings\n",
    "                - Low"
   ]
  },
  {
   "cell_type": "markdown",
   "metadata": {},
   "source": [
    "### Calibrate the game window position"
   ]
  },
  {
   "cell_type": "markdown",
   "metadata": {},
   "source": [
    "- Place the game window on the upper left.  \n",
    "![adjustment_01.png](https://github.com/ricagj/pysekiro/blob/main/imgs/adjustment_01.png?raw=true)"
   ]
  },
  {
   "cell_type": "code",
   "metadata": {
    "ExecuteTime": {
     "end_time": "2024-05-17T11:53:58.511014Z",
     "start_time": "2024-05-17T11:53:58.088209Z"
    }
   },
   "source": [
    "from pysekiro.img_tools.adjustment import main\n",
    "import sys\n",
    "print(sys.path)\n",
    "import os\n",
    "print(os.sys.path)\n",
    "\n",
    "main()"
   ],
   "outputs": [
    {
     "ename": "ModuleNotFoundError",
     "evalue": "No module named 'cv2'",
     "output_type": "error",
     "traceback": [
      "\u001B[1;31m---------------------------------------------------------------------------\u001B[0m",
      "\u001B[1;31mModuleNotFoundError\u001B[0m                       Traceback (most recent call last)",
      "Cell \u001B[1;32mIn[1], line 1\u001B[0m\n\u001B[1;32m----> 1\u001B[0m \u001B[38;5;28;01mfrom\u001B[39;00m \u001B[38;5;21;01mpysekiro\u001B[39;00m\u001B[38;5;21;01m.\u001B[39;00m\u001B[38;5;21;01mimg_tools\u001B[39;00m\u001B[38;5;21;01m.\u001B[39;00m\u001B[38;5;21;01madjustment\u001B[39;00m \u001B[38;5;28;01mimport\u001B[39;00m main\n\u001B[0;32m      2\u001B[0m \u001B[38;5;28;01mimport\u001B[39;00m \u001B[38;5;21;01msys\u001B[39;00m\n\u001B[0;32m      3\u001B[0m \u001B[38;5;28mprint\u001B[39m(sys\u001B[38;5;241m.\u001B[39mpath)\n",
      "File \u001B[1;32mD:\\wudi\\code\\pysekiro_with_RL\\pysekiro\\img_tools\\adjustment.py:1\u001B[0m\n\u001B[1;32m----> 1\u001B[0m \u001B[38;5;28;01mimport\u001B[39;00m \u001B[38;5;21;01mcv2\u001B[39;00m\n\u001B[0;32m      3\u001B[0m \u001B[38;5;28;01mfrom\u001B[39;00m \u001B[38;5;21;01mpysekiro\u001B[39;00m\u001B[38;5;21;01m.\u001B[39;00m\u001B[38;5;21;01mimg_tools\u001B[39;00m\u001B[38;5;21;01m.\u001B[39;00m\u001B[38;5;21;01mget_status\u001B[39;00m \u001B[38;5;28;01mimport\u001B[39;00m get_status\n\u001B[0;32m      4\u001B[0m \u001B[38;5;28;01mfrom\u001B[39;00m \u001B[38;5;21;01mpysekiro\u001B[39;00m\u001B[38;5;21;01m.\u001B[39;00m\u001B[38;5;21;01mimg_tools\u001B[39;00m\u001B[38;5;21;01m.\u001B[39;00m\u001B[38;5;21;01mget_vertices\u001B[39;00m \u001B[38;5;28;01mimport\u001B[39;00m roi\n",
      "\u001B[1;31mModuleNotFoundError\u001B[0m: No module named 'cv2'"
     ]
    }
   ],
   "execution_count": 1
  },
  {
   "metadata": {
    "ExecuteTime": {
     "end_time": "2024-05-17T11:51:00.999022Z",
     "start_time": "2024-05-17T11:50:59.619164Z"
    }
   },
   "cell_type": "code",
   "source": "!pip install opencv-python\n",
   "outputs": [
    {
     "name": "stdout",
     "output_type": "stream",
     "text": [
      "Requirement already satisfied: opencv-python in d:\\wudi\\softwares\\anaconda\\envs\\pysekiro\\lib\\site-packages (4.9.0.80)\n",
      "Requirement already satisfied: numpy>=1.17.0 in d:\\wudi\\softwares\\anaconda\\envs\\pysekiro\\lib\\site-packages (from opencv-python) (1.21.0)\n"
     ]
    }
   ],
   "execution_count": 5
  },
  {
   "cell_type": "markdown",
   "metadata": {},
   "source": [
    "- When prompted \"Ready!\"\n",
    "    - Press \"T\" to start\n",
    "    - Press \"P\" to end"
   ]
  },
  {
   "cell_type": "markdown",
   "metadata": {},
   "source": [
    "https://github.com/ricagj/pysekiro/blob/main/imgs/adjustment.gif"
   ]
  },
  {
   "cell_type": "markdown",
   "metadata": {},
   "source": [
    "![adjustment_02.png](https://github.com/ricagj/pysekiro/blob/main/imgs/adjustment_02.png?raw=true)"
   ]
  },
  {
   "cell_type": "markdown",
   "metadata": {},
   "source": [
    "# 2 Start"
   ]
  },
  {
   "cell_type": "markdown",
   "metadata": {},
   "source": [
    "## 2.1 on-policy"
   ]
  },
  {
   "cell_type": "markdown",
   "metadata": {},
   "source": [
    "~~~python\n",
    "class Play_Sekiro_Online:\n",
    "    def __init__(\n",
    "        self,\n",
    "        save_memory_path=None,\n",
    "        load_memory_path=None,\n",
    "        save_weights_path=None,\n",
    "        load_weights_path=None\n",
    "    ):\n",
    "~~~"
   ]
  },
  {
   "cell_type": "markdown",
   "metadata": {},
   "source": [
    "- **save_memory_path** Specify the path to save the memory/experience. The default is None, do not save.\n",
    "- **load_memory_path** Specify the path to load the memory/experience. The default is None, do not load.\n",
    "- **save_weights_path** Specify the path to save the model weight. The default is None, do not save. **Note: The default is also the test mode, if you set this parameter, the training mode will be turned on.**\n",
    "- **load_weights_path** Specify the path to load the model weight. The default is None, do not load."
   ]
  },
  {
   "cell_type": "code",
   "execution_count": null,
   "metadata": {},
   "outputs": [],
   "source": [
    "from pysekiro.on_policy import Play_Sekiro_Online"
   ]
  },
  {
   "cell_type": "code",
   "execution_count": null,
   "metadata": {},
   "outputs": [],
   "source": [
    "target = 'Genichiro_Ashina'\n",
    "# target = 'Inner_Genichiro'\n",
    "# target = 'True Monk'\n",
    "# target = 'Isshin,_the_Sword_Saint'\n",
    "# target = 'Inner_Isshin'"
   ]
  },
  {
   "cell_type": "code",
   "execution_count": null,
   "metadata": {},
   "outputs": [],
   "source": [
    "train = Play_Sekiro_Online(\n",
    "    save_memory_path = target + '_memory.json',    # Comment this line will not save the memory/experience\n",
    "    load_memory_path = target + '_memory.json',    # Comment this line will not load the memory/experience\n",
    "    save_weights_path = target + '_w.h5',    # Comment this line will not save the model weights\n",
    "    load_weights_path = target + '_w.h5'     # Comment this line will not load the model weights\n",
    ")"
   ]
  },
  {
   "cell_type": "code",
   "execution_count": null,
   "metadata": {},
   "outputs": [],
   "source": [
    "train.run()"
   ]
  },
  {
   "cell_type": "markdown",
   "metadata": {},
   "source": [
    "- When prompted \"Ready!\"\n",
    "    - Press \"T\" to start\n",
    "    - Press \"P\" to end"
   ]
  },
  {
   "cell_type": "markdown",
   "metadata": {},
   "source": [
    "## 2.2 off-policy"
   ]
  },
  {
   "cell_type": "markdown",
   "metadata": {},
   "source": [
    "~~~python\n",
    "class Play_Sekiro_Offline:\n",
    "    def __init__(\n",
    "        self,\n",
    "        lr,\n",
    "        batch_size,\n",
    "        load_memory_path,\n",
    "        save_weights_path,\n",
    "        load_weights_path=None\n",
    "    ):\n",
    "~~~"
   ]
  },
  {
   "cell_type": "markdown",
   "metadata": {},
   "source": [
    "- **lr** learning rate\n",
    "- **batch_size** Number of samples drawn\n",
    "- **load_memory_path** Specify the path to load the memory/experience.\n",
    "- **save_weights_path** Specify the path to save the model weight. The default is None, do not save.\n",
    "- **load_weights_path** Specify the path to load the model weight. The default is None, do not load."
   ]
  },
  {
   "cell_type": "code",
   "execution_count": null,
   "metadata": {},
   "outputs": [],
   "source": [
    "from pysekiro.off_policy import Play_Sekiro_Offline"
   ]
  },
  {
   "cell_type": "code",
   "execution_count": null,
   "metadata": {},
   "outputs": [],
   "source": [
    "target = 'Genichiro_Ashina'\n",
    "# target = 'Inner_Genichiro'\n",
    "# target = 'True Monk'\n",
    "# target = 'Isshin,_the_Sword_Saint'\n",
    "# target = 'Inner_Isshin'"
   ]
  },
  {
   "cell_type": "code",
   "execution_count": null,
   "metadata": {},
   "outputs": [],
   "source": [
    "train = Play_Sekiro_Offline(\n",
    "    lr = 0.0001,\n",
    "    batch_size = 128,\n",
    "    load_memory_path = target + '_memory.json',      # Comment this line will not load the memory/experience\n",
    "    save_weights_path = target + '_w_offline.h5',    # Comment this line will not save the model weights\n",
    "    load_weights_path = target + '_w.h5'             # Comment this line will not load the model weights\n",
    ")"
   ]
  },
  {
   "cell_type": "code",
   "execution_count": null,
   "metadata": {},
   "outputs": [],
   "source": [
    "train.run()"
   ]
  },
  {
   "cell_type": "markdown",
   "metadata": {},
   "source": [
    "- When prompted \"Ready!\"\n",
    "    - Press \"T\" to start\n",
    "    - Press \"P\" to end"
   ]
  },
  {
   "cell_type": "markdown",
   "metadata": {},
   "source": [
    "## 2.3 Test model"
   ]
  },
  {
   "cell_type": "code",
   "execution_count": null,
   "metadata": {},
   "outputs": [],
   "source": [
    "from pysekiro.on_policy import Play_Sekiro_Online"
   ]
  },
  {
   "cell_type": "code",
   "execution_count": null,
   "metadata": {},
   "outputs": [],
   "source": [
    "target = 'Genichiro_Ashina'\n",
    "# target = 'Inner_Genichiro'\n",
    "# target = 'True Monk'\n",
    "# target = 'Isshin,_the_Sword_Saint'\n",
    "# target = 'Inner_Isshin'"
   ]
  },
  {
   "cell_type": "code",
   "execution_count": null,
   "metadata": {},
   "outputs": [],
   "source": [
    "# model = target + '_w.h5'\n",
    "model = target + '_w_offline.h5'\n",
    "\n",
    "train = Play_Sekiro_Online(\n",
    "    load_weights_path = model     # Comment this line will not load the model weights\n",
    ")"
   ]
  },
  {
   "cell_type": "code",
   "execution_count": null,
   "metadata": {},
   "outputs": [],
   "source": [
    "train.run()"
   ]
  },
  {
   "cell_type": "markdown",
   "metadata": {},
   "source": [
    "- When prompted \"Ready!\"\n",
    "    - Press \"T\" to start\n",
    "    - Press \"P\" to end"
   ]
  }
 ],
 "metadata": {
  "kernelspec": {
   "display_name": "Python 3",
   "language": "python",
   "name": "python3"
  },
  "language_info": {
   "codemirror_mode": {
    "name": "ipython",
    "version": 3
   },
   "file_extension": ".py",
   "mimetype": "text/x-python",
   "name": "python",
   "nbconvert_exporter": "python",
   "pygments_lexer": "ipython3",
   "version": "3.8.5"
  },
  "toc-autonumbering": false,
  "toc-showtags": false
 },
 "nbformat": 4,
 "nbformat_minor": 4
}
