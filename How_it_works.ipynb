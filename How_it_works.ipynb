{
 "cells": [
  {
   "cell_type": "markdown",
   "metadata": {},
   "source": [
    "# 1 Image part\n",
    "- pysekiro\n",
    "    - img_tools\n",
    "        - \\__init__.py\n",
    "        - adjustment.py\n",
    "        - get_status.py\n",
    "        - get_vertices.py\n",
    "        - grab_screen.py"
   ]
  },
  {
   "cell_type": "markdown",
   "metadata": {},
   "source": [
    "## 1.1 grab screen"
   ]
  },
  {
   "cell_type": "markdown",
   "metadata": {},
   "source": [
    "[grab_screen.py](https://github.com/ricagj/pysekiro_with_RL/blob/main/pysekiro/img_tools/grab_screen.py)  \n",
    "source code: [Sentdex/pygta5/blob/master/grabscreen.py](https://github.com/Sentdex/pygta5/blob/master/grabscreen.py)"
   ]
  },
  {
   "cell_type": "code",
   "execution_count": null,
   "metadata": {},
   "outputs": [],
   "source": [
    "# 运行以下代码，就会抓取当前的屏幕图像\n",
    "import cv2\n",
    "from pysekiro.img_tools.grab_screen import get_screen\n",
    "\n",
    "screen = get_screen()\n",
    "cv2.imshow('screen', screen)\n",
    "cv2.waitKey(0)\n",
    "\n",
    "print('shape', screen.shape)"
   ]
  },
  {
   "cell_type": "markdown",
   "metadata": {},
   "source": [
    "## 1.2 get vertices"
   ]
  },
  {
   "cell_type": "markdown",
   "metadata": {},
   "source": [
    "[get_vertices.py](https://github.com/ricagj/pysekiro_with_RL/blob/main/pysekiro/img_tools/get_vertices.py)"
   ]
  },
  {
   "cell_type": "markdown",
   "metadata": {},
   "source": [
    "![demo.gif](https://github.com/ricagj/pysekiro/blob/main/imgs/demo.gif?raw=true)"
   ]
  },
  {
   "cell_type": "markdown",
   "metadata": {},
   "source": [
    "As shown in the above demonstration(demo.gif), in the pop-up window, use the left mouse button to click the **lower left**, **upper left**, **upper right**, and **lower right** in sequence, a total of 4 times, and then press the \"ESC\" key on the keyboard, it will automatically return to x, x_w, y, y_h.\n",
    "(Note: The order of the clicks is stipulated, and the number of clicks is also stipulated)"
   ]
  },
  {
   "cell_type": "code",
   "execution_count": null,
   "metadata": {},
   "outputs": [],
   "source": [
    "import cv2\n",
    "\n",
    "from pysekiro.img_tools.get_vertices import get_xywh\n",
    "from pysekiro.img_tools.grab_screen import get_screen\n",
    "\n",
    "img = get_screen()\n",
    "\n",
    "get_xywh(img)"
   ]
  },
  {
   "cell_type": "markdown",
   "metadata": {},
   "source": [
    "## 1.3 get status"
   ]
  },
  {
   "cell_type": "markdown",
   "metadata": {},
   "source": [
    "[get_status.py](https://github.com/ricagj/pysekiro_with_RL/blob/main/pysekiro/img_tools/get_status.py)"
   ]
  },
  {
   "cell_type": "markdown",
   "metadata": {},
   "source": [
    "![get_status](https://github.com/ricagj/pysekiro/blob/main/imgs/status.jpg?raw=true)"
   ]
  },
  {
   "cell_type": "markdown",
   "metadata": {},
   "source": [
    "The states to be acquired are: Self_HP, Self_Posture, Target_HP, Target_Posture.\n",
    "- How to obtain\n",
    "    1. Get **x, x_w, y, y_h** from [get_vertices.py](https://github.com/ricagj/pysekiro_with_RL/blob/main/pysekiro/img_tools/get_vertices.py).\n",
    "    2. Image processing\n",
    "    3. Quantify into numbers"
   ]
  },
  {
   "cell_type": "markdown",
   "metadata": {},
   "source": [
    "### 1.3.1 get HP"
   ]
  },
  {
   "cell_type": "markdown",
   "metadata": {},
   "source": [
    "1. Extract the ROI\n",
    "2. The color channel is separated, and the G (Green) channel is taken\n",
    "3. Image threshold processing\n",
    "4. Convert to a number"
   ]
  },
  {
   "cell_type": "markdown",
   "metadata": {},
   "source": [
    "~~~python\n",
    "def get_Self_HP(img):\n",
    "    img_roi = roi(img, x=48, x_w=305, y=409, y_h=409+1)\n",
    "\n",
    "    b, g ,r =cv2.split(img_roi)    # Color channel separation\n",
    "\n",
    "    retval, img_th = cv2.threshold(g, 50, 255, cv2.THRESH_TOZERO)              # Image threshold processing, if the pixel value is lower than 50, set it to 0\n",
    "    retval, img_th = cv2.threshold(img_th, 70, 255, cv2.THRESH_TOZERO_INV)    # Image threshold processing, if the pixel value is higher than 70, set it to 0\n",
    "\n",
    "    target_img = img_th[0]\n",
    "    if 0 in target_img:\n",
    "        Self_HP = np.argmin(target_img)\n",
    "    else:\n",
    "        Self_HP = len(target_img)\n",
    "\n",
    "    return Self_HP\n",
    "\n",
    "def get_Target_HP(img):\n",
    "    img_roi = roi(img, x=48, x_w=216, y=41, y_h=41+1)\n",
    "\n",
    "    b, g ,r =cv2.split(img_roi)    # Color channel separation\n",
    "\n",
    "    retval, img_th = cv2.threshold(g, 25, 255, cv2.THRESH_TOZERO)             # Image threshold processing, if the pixel value is lower than 25, set to 0\n",
    "    retval, img_th = cv2.threshold(img_th, 70, 255, cv2.THRESH_TOZERO_INV)    # Image threshold processing, if the pixel value is higher than 70, set it to 0\n",
    "\n",
    "    target_img = img_th[0]\n",
    "    if 0 in target_img:\n",
    "        Target_HP = np.argmin(target_img)\n",
    "    else:\n",
    "        Target_HP = len(target_img)\n",
    "    \n",
    "    return Target_HP\n",
    "~~~\n",
    "\n",
    "![demo_get_Self_HP.gif](https://github.com/ricagj/pysekiro/blob/main/imgs/demo_get_Self_HP.gif?raw=true)"
   ]
  },
  {
   "cell_type": "markdown",
   "metadata": {},
   "source": [
    "### 1.3.2 get Posture"
   ]
  },
  {
   "cell_type": "markdown",
   "metadata": {},
   "source": [
    "- Only read the right half of the Posture\n",
    "1. Extract the ROI\n",
    "2. The color channel is separated, and the R (Red) channel is taken\n",
    "3. Wait for the middle line (white line) of the posture to appear\n",
    "    - Use cv2.Canny() to detect edges\n",
    "4. Convert to a number"
   ]
  },
  {
   "cell_type": "markdown",
   "metadata": {},
   "source": [
    "~~~python\n",
    "def get_Self_Posture(img):\n",
    "    img_roi = roi(img, x=401, x_w=490, y=389, y_h=389+1)\n",
    "    b, g ,r =cv2.split(img_roi)    # Color channel separation\n",
    "\n",
    "    white_line = r[0][0]\n",
    "    if 155 < white_line < 170 or white_line > 250:\n",
    "        canny = cv2.Canny(cv2.GaussianBlur(r,(3,3),0), 0, 100)\n",
    "        Self_Posture =  np.argmax(canny)\n",
    "    else:\n",
    "        Self_Posture = 0\n",
    "\n",
    "    if white_line > 250 and Self_Posture < 10:\n",
    "        Self_Posture == len(canny)\n",
    "\n",
    "    return Self_Posture\n",
    "\n",
    "def get_Target_Posture(img):\n",
    "    img_roi = roi(img, x=401, x_w=553, y=29, y_h=29+1)\n",
    "    b, g ,r =cv2.split(img_roi)    # Color channel separation\n",
    "\n",
    "    white_line = r[0][0]\n",
    "    if white_line > 190:\n",
    "        canny = cv2.Canny(cv2.GaussianBlur(r,(3,3),0), 0, 100)\n",
    "        Target_Posture =  np.argmax(canny)\n",
    "    else:\n",
    "        Target_Posture = 0\n",
    "\n",
    "    if white_line > 250 and Target_Posture < 10:\n",
    "        Target_Posture == len(canny)\n",
    "\n",
    "    return Target_Posture\n",
    "~~~"
   ]
  },
  {
   "cell_type": "markdown",
   "metadata": {},
   "source": [
    "# 2 Key part (Button part)\n",
    "- pysekiro\n",
    "    - key_tools\n",
    "        - \\__init__.py\n",
    "        - actions.py\n",
    "        - direct_keys.py\n",
    "        - get_keys.py"
   ]
  },
  {
   "cell_type": "markdown",
   "metadata": {},
   "source": [
    "## 2.1 get keys"
   ]
  },
  {
   "cell_type": "markdown",
   "metadata": {},
   "source": [
    "[get_keys.py](https://github.com/ricagj/pysekiro_with_RL/blob/main/pysekiro/key_tools/get_keys.py)  \n",
    "source code: [Sentdex/pygta5/blob/master/getkeys.py](https://github.com/Sentdex/pygta5/blob/master/getkeys.py)"
   ]
  },
  {
   "cell_type": "markdown",
   "metadata": {},
   "source": [
    "[keys.py](https://github.com/Sentdex/pygta5/blob/master/keys.py) lines 146 to 254\n",
    "~~~python\n",
    "# virtual keys\n",
    "vk = {\n",
    "    # 'W' : 0x57,\n",
    "    # 'S' : 0x53,\n",
    "    # 'A' : 0x41,\n",
    "    # 'D' : 0x44,\n",
    "    'LSHIFT' : 0xA0,\n",
    "    'SPACE'  : 0x20,\n",
    "\n",
    "    'J' : 0x4A,\n",
    "    'K' : 0x4B,\n",
    "\n",
    "    'T' : 0x54,\n",
    "    'P' : 0x50\n",
    "}\n",
    "~~~"
   ]
  },
  {
   "cell_type": "markdown",
   "metadata": {},
   "source": [
    "Detect the key currently being pressed\n",
    "~~~python\n",
    "def key_check():\n",
    "    keys = []\n",
    "    for key in ['LSHIFT', 'SPACE', 'J', 'K', 'T', 'P']:    # 'W', 'S', 'A', 'D', \n",
    "        if wapi.GetAsyncKeyState(vk[key]):\n",
    "            keys.append(key)\n",
    "    return keys\n",
    "~~~"
   ]
  },
  {
   "cell_type": "markdown",
   "metadata": {},
   "source": [
    "## 2.2 direct keys"
   ]
  },
  {
   "cell_type": "markdown",
   "metadata": {},
   "source": [
    "[direct_keys.py](https://github.com/ricagj/pysekiro_with_RL/blob/main/pysekiro/key_tools/direct_keys.py)  \n",
    "source code: [Sentdex/pygta5/blob/master/directkeys.py](https://github.com/Sentdex/pygta5/blob/master/directkeys.py)"
   ]
  },
  {
   "cell_type": "markdown",
   "metadata": {},
   "source": [
    "PressKey  \n",
    "ReleaseKey"
   ]
  },
  {
   "cell_type": "markdown",
   "metadata": {},
   "source": [
    "## 2.3 actions"
   ]
  },
  {
   "cell_type": "markdown",
   "metadata": {},
   "source": [
    "[actions.py](https://github.com/ricagj/pysekiro_with_RL/blob/main/pysekiro/key_tools/actions.py)  \n",
    "source code: [Sentdex/pygta5/blob/master/3.%20test_model.py](https://github.com/Sentdex/pygta5/blob/master/3.%20test_model.py)"
   ]
  },
  {
   "cell_type": "markdown",
   "metadata": {},
   "source": [
    "[keys.py](https://github.com/Sentdex/pygta5/blob/master/keys.py) lines 35 to 143\n",
    "~~~python\n",
    "# direct keys\n",
    "dk = {\n",
    "    'W' : 0x11,\n",
    "    'S' : 0x1F,\n",
    "    'A' : 0x1E,\n",
    "    'D' : 0x20,\n",
    "    'LSHIFT' : 0x2A,\n",
    "    'SPACE'  : 0x39,\n",
    "\n",
    "    'Y'       : 0x15,\n",
    "    'NUMPAD1' : 0x4F,\n",
    "\n",
    "    'J' : 0x24,\n",
    "    'K' : 0x25,\n",
    "}\n",
    "~~~"
   ]
  },
  {
   "cell_type": "markdown",
   "metadata": {},
   "source": [
    "e.g.\n",
    "~~~python\n",
    "def Move_Forward():\n",
    "    PressKey(dk['W'])\n",
    "    time.sleep(0.01)    # Key duration (control long press and short press)\n",
    "    ReleaseKey(dk['W'])\n",
    "~~~"
   ]
  },
  {
   "cell_type": "markdown",
   "metadata": {},
   "source": [
    "When this function is called, the game will receive the key signal sent by the program, and then drive the operating object to make the corresponding action."
   ]
  }
 ],
 "metadata": {
  "kernelspec": {
   "display_name": "Python 3",
   "language": "python",
   "name": "python3"
  },
  "language_info": {
   "codemirror_mode": {
    "name": "ipython",
    "version": 3
   },
   "file_extension": ".py",
   "mimetype": "text/x-python",
   "name": "python",
   "nbconvert_exporter": "python",
   "pygments_lexer": "ipython3",
   "version": "3.8.5"
  },
  "toc-autonumbering": false
 },
 "nbformat": 4,
 "nbformat_minor": 4
}
